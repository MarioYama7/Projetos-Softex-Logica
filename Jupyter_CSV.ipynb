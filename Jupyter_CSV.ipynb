{
 "cells": [
  {
   "cell_type": "code",
   "execution_count": null,
   "metadata": {},
   "outputs": [],
   "source": [
    "#Importando a biblioteca pandas, pois, sera necessaria\n",
    "\n",
    "import pandas as pd"
   ]
  },
  {
   "cell_type": "code",
   "execution_count": null,
   "metadata": {},
   "outputs": [],
   "source": [
    "#Abrir o arquivo salvo na mesma pasta que o codigo.\n",
    "\n",
    "df_csv = pd.read_csv('notas_alunos.csv')\n",
    "print(df_csv)"
   ]
  },
  {
   "cell_type": "code",
   "execution_count": null,
   "metadata": {},
   "outputs": [],
   "source": [
    "#incluindo coluna para media\n",
    "\n",
    "df_csv['media'] = (df_csv['nota01'] + df_csv['nota02']) / 2\n",
    "print(df_csv)"
   ]
  },
  {
   "cell_type": "code",
   "execution_count": null,
   "metadata": {},
   "outputs": [],
   "source": [
    "#Colocando coluna Situacao\n",
    "df_csv['situacao']= ['','','','']\n",
    "for i in range(len(df_csv['situacao'])):\n",
    "  if (df_csv.iloc[i,4] < 7) or (df_csv.iloc[i,3] > 5):\n",
    "    df_csv.iloc[i,5] = \"Reprovado\"\n",
    "  else:\n",
    "    df_csv.iloc[i,5] = \"Aprovado\" \n",
    "print(df_csv)"
   ]
  },
  {
   "cell_type": "code",
   "execution_count": null,
   "metadata": {},
   "outputs": [],
   "source": [
    "#Para simplificar existem as funcoes median() e max(), usadas prara media e maxima\n",
    "print(f\"Maior número de faltas: {df_csv['faltas'].max()}\")\n",
    "print(f\"Média geral: {df_csv['media'].median()}\")\n",
    "print(f\"Maior média: {df_csv['media'].max()}\")"
   ]
  },
  {
   "cell_type": "code",
   "execution_count": null,
   "metadata": {},
   "outputs": [],
   "source": [
    "#Depois de todos os processo feitos, salvando novo arquivo.\n",
    "\n",
    "#Criando nova pasta CSV\n",
    "df_csv.to_csv('alunos_situacao.csv')"
   ]
  }
 ],
 "metadata": {
  "language_info": {
   "name": "python"
  },
  "orig_nbformat": 4
 },
 "nbformat": 4,
 "nbformat_minor": 2
}
